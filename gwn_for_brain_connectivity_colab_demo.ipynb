{
 "cells": [
  {
   "cell_type": "markdown",
   "metadata": {
    "id": "aH96qMaSanMb"
   },
   "source": [
    "## Demo version for Google Colab"
   ]
  },
  {
   "cell_type": "markdown",
   "metadata": {
    "id": "TdPJGlxjgzT3"
   },
   "source": [
    "Select GPU acceleration: Navigate to Edit → Notebook Settings → Hardware Accelerator: GPU "
   ]
  },
  {
   "cell_type": "code",
   "execution_count": 1,
   "metadata": {
    "colab": {
     "base_uri": "https://localhost:8080/"
    },
    "id": "GgQkgZUsRkSV",
    "outputId": "9e8d0d29-aefb-49f5-ae8b-2b7967a5c1ca"
   },
   "outputs": [
    {
     "name": "stdout",
     "output_type": "stream",
     "text": [
      "Mounted at /content/drive\n",
      "/content/drive/My Drive/Colab Notebooks\n",
      "fatal: destination path 'GraphWaveNet_brain_connectivity' already exists and is not an empty directory.\n",
      "/content/drive/My Drive/Colab Notebooks/GraphWaveNet_brain_connectivity\n",
      "Wed Dec  8 14:52:43 2021       \n",
      "+-----------------------------------------------------------------------------+\n",
      "| NVIDIA-SMI 495.44       Driver Version: 460.32.03    CUDA Version: 11.2     |\n",
      "|-------------------------------+----------------------+----------------------+\n",
      "| GPU  Name        Persistence-M| Bus-Id        Disp.A | Volatile Uncorr. ECC |\n",
      "| Fan  Temp  Perf  Pwr:Usage/Cap|         Memory-Usage | GPU-Util  Compute M. |\n",
      "|                               |                      |               MIG M. |\n",
      "|===============================+======================+======================|\n",
      "|   0  Tesla K80           Off  | 00000000:00:04.0 Off |                    0 |\n",
      "| N/A   47C    P8    30W / 149W |      0MiB / 11441MiB |      0%      Default |\n",
      "|                               |                      |                  N/A |\n",
      "+-------------------------------+----------------------+----------------------+\n",
      "                                                                               \n",
      "+-----------------------------------------------------------------------------+\n",
      "| Processes:                                                                  |\n",
      "|  GPU   GI   CI        PID   Type   Process name                  GPU Memory |\n",
      "|        ID   ID                                                   Usage      |\n",
      "|=============================================================================|\n",
      "|  No running processes found                                                 |\n",
      "+-----------------------------------------------------------------------------+\n"
     ]
    }
   ],
   "source": [
    "# Clone repository.\n",
    "\n",
    "save_in_gdrive = False   # Set to True to save results to Google drive.\n",
    "# Mount google drive directory.\n",
    "if save_in_gdrive == True:\n",
    "    from google.colab import drive                     \n",
    "    drive.mount('/content/drive', force_remount=True)  \n",
    "    %cd /content/drive/'My Drive'/'Colab Notebooks'    \n",
    "\n",
    "# Clone repository.\n",
    "!git clone https://github.com/simonvino/GraphWaveNet_brain_connectivity.git\n",
    "%cd ./GraphWaveNet_brain_connectivity/ \n",
    "\n",
    "# Select GPU: navigate to Edit → Notebook Settings → Hardware Accelerator: select GPU  \n",
    "!nvidia-smi  # Check if GPU is used."
   ]
  },
  {
   "cell_type": "markdown",
   "metadata": {
    "id": "2hTtKSZ2aWve"
   },
   "source": [
    "### Generate training data samples"
   ]
  },
  {
   "cell_type": "code",
   "execution_count": 2,
   "metadata": {
    "colab": {
     "base_uri": "https://localhost:8080/"
    },
    "id": "5-2LU627WAJq",
    "outputId": "f9fcac1c-54a5-4e02-a144-498eb55f38c5"
   },
   "outputs": [
    {
     "name": "stdout",
     "output_type": "stream",
     "text": [
      "Generating training data.\n",
      "Load: ./MRI_data/fMRI_sessions//session_1/artificial_timeseries_sub_1.txt\n",
      "Load: ./MRI_data/fMRI_sessions//session_1/artificial_timeseries_sub_2.txt\n",
      "Load: ./MRI_data/fMRI_sessions//session_1/artificial_timeseries_sub_3.txt\n",
      "Load: ./MRI_data/fMRI_sessions//session_1/artificial_timeseries_sub_4.txt\n",
      "Load: ./MRI_data/fMRI_sessions//session_1/artificial_timeseries_sub_5.txt\n",
      "Load: ./MRI_data/fMRI_sessions//session_1/artificial_timeseries_sub_6.txt\n",
      "Load: ./MRI_data/fMRI_sessions//session_1/artificial_timeseries_sub_7.txt\n",
      "Load: ./MRI_data/fMRI_sessions//session_1/artificial_timeseries_sub_8.txt\n",
      "Load: ./MRI_data/fMRI_sessions//session_1/artificial_timeseries_sub_9.txt\n",
      "Load: ./MRI_data/fMRI_sessions//session_1/artificial_timeseries_sub_10.txt\n",
      "Load: ./MRI_data/fMRI_sessions//session_2/artificial_timeseries_sub_1.txt\n",
      "Load: ./MRI_data/fMRI_sessions//session_2/artificial_timeseries_sub_2.txt\n",
      "Load: ./MRI_data/fMRI_sessions//session_2/artificial_timeseries_sub_3.txt\n",
      "Load: ./MRI_data/fMRI_sessions//session_2/artificial_timeseries_sub_4.txt\n",
      "Load: ./MRI_data/fMRI_sessions//session_2/artificial_timeseries_sub_5.txt\n",
      "Load: ./MRI_data/fMRI_sessions//session_2/artificial_timeseries_sub_6.txt\n",
      "Load: ./MRI_data/fMRI_sessions//session_2/artificial_timeseries_sub_7.txt\n",
      "Load: ./MRI_data/fMRI_sessions//session_2/artificial_timeseries_sub_8.txt\n",
      "Load: ./MRI_data/fMRI_sessions//session_2/artificial_timeseries_sub_9.txt\n",
      "Load: ./MRI_data/fMRI_sessions//session_2/artificial_timeseries_sub_10.txt\n",
      "### SAMPLES ###\n",
      "Using 2 sessions from 10 subjects.\n",
      "Per session:   353 training samples,    44 validation samples,    44 testing samples.\n",
      "In total:     7060 training samples,   880 validation samples,   880 testing samples.\n",
      "### SAVE DATA ###\n",
      "Save in: ./MRI_data/training_samples\n",
      "train x:  (7060, 30, 90, 1) y: (7060, 30, 90, 1)\n",
      "val x:  (880, 30, 90, 1) y: (880, 30, 90, 1)\n",
      "test x:  (880, 30, 90, 1) y: (880, 30, 90, 1)\n",
      "Done.\n"
     ]
    }
   ],
   "source": [
    "!python generate_samples.py --input_dir=./MRI_data/fMRI_sessions/ --output_dir=./MRI_data/training_samples"
   ]
  },
  {
   "cell_type": "markdown",
   "metadata": {
    "id": "dQol8RmTab1v"
   },
   "source": [
    "### Train model"
   ]
  },
  {
   "cell_type": "code",
   "execution_count": 3,
   "metadata": {
    "colab": {
     "base_uri": "https://localhost:8080/"
    },
    "id": "imKeqfaGVVKM",
    "outputId": "377bc990-44a3-4cf7-bfc4-965a00aaba74"
   },
   "outputs": [
    {
     "name": "stdout",
     "output_type": "stream",
     "text": [
      "2021-12-08 14:53 - INFO - Log directory: ./results/GWN_gcnTrue_2_nhid32_lr0.001_1208145313/\n",
      "2021-12-08 14:53 - INFO - Namespace(addaptadj=False, adjdata='./MRI_data/SC_matrix/artificial_SC_matrix.npy', adjtype='transition', aptonly=False, batch_size=64, blocks=8, data='./MRI_data/training_samples', device='cuda:0', dropout=0, epochs=40, expid=1, gcn_bool=True, in_dim=1, kernel_size=4, layers=2, learning_rate=0.001, learning_rate_step=10, nhid=32, num_nodes=90, output_name='outputs', print_every=50, randomadj=True, save_dir='./results/GWN_gcnTrue_2_nhid32_lr0.001_1208145313/', save_predictions=True, seq_length=30, walk_order=2, weight_decay=0.0001)\n",
      "Receptive field size: 73\n",
      "start training...\n",
      "2021-12-08 14:53 - INFO - Iter: 000, Train Loss: 0.0991, Train MAPE: 0.2329, Train RMSE: 0.1252, Lr: 0.001000\n",
      "2021-12-08 14:54 - INFO - Iter: 050, Train Loss: 0.0484, Train MAPE: 0.1103, Train RMSE: 0.0663, Lr: 0.001000\n",
      "2021-12-08 14:56 - INFO - Iter: 100, Train Loss: 0.0334, Train MAPE: 0.0764, Train RMSE: 0.0477, Lr: 0.001000\n",
      "2021-12-08 14:56 - INFO - Epoch: 001, Train Loss: 0.0501, Train MAPE: 0.1138, Train RMSE: 0.0685, Valid Loss: 0.0328, Valid MAPE: 0.0751, Valid RMSE: 0.0470, Lr: 0.001000, Training Time: 3.0262 min/epoch\n",
      "2021-12-08 14:56 - INFO - Iter: 000, Train Loss: 0.0330, Train MAPE: 0.0731, Train RMSE: 0.0475, Lr: 0.001000\n",
      "2021-12-08 14:58 - INFO - Iter: 050, Train Loss: 0.0265, Train MAPE: 0.0580, Train RMSE: 0.0394, Lr: 0.001000\n",
      "2021-12-08 14:59 - INFO - Iter: 100, Train Loss: 0.0248, Train MAPE: 0.0545, Train RMSE: 0.0377, Lr: 0.001000\n",
      "2021-12-08 14:59 - INFO - Epoch: 002, Train Loss: 0.0292, Train MAPE: 0.0650, Train RMSE: 0.0426, Valid Loss: 0.0267, Valid MAPE: 0.0614, Valid RMSE: 0.0387, Lr: 0.001000, Training Time: 3.0073 min/epoch\n",
      "2021-12-08 14:59 - INFO - Iter: 000, Train Loss: 0.0290, Train MAPE: 0.0670, Train RMSE: 0.0405, Lr: 0.001000\n",
      "2021-12-08 15:01 - INFO - Iter: 050, Train Loss: 0.0228, Train MAPE: 0.0498, Train RMSE: 0.0337, Lr: 0.001000\n",
      "2021-12-08 15:02 - INFO - Iter: 100, Train Loss: 0.0229, Train MAPE: 0.0507, Train RMSE: 0.0342, Lr: 0.001000\n",
      "2021-12-08 15:02 - INFO - Epoch: 003, Train Loss: 0.0254, Train MAPE: 0.0564, Train RMSE: 0.0376, Valid Loss: 0.0246, Valid MAPE: 0.0563, Valid RMSE: 0.0365, Lr: 0.001000, Training Time: 3.0061 min/epoch\n",
      "2021-12-08 15:02 - INFO - Iter: 000, Train Loss: 0.0242, Train MAPE: 0.0533, Train RMSE: 0.0367, Lr: 0.001000\n",
      "2021-12-08 15:04 - INFO - Iter: 050, Train Loss: 0.0214, Train MAPE: 0.0487, Train RMSE: 0.0330, Lr: 0.001000\n",
      "2021-12-08 15:05 - INFO - Iter: 100, Train Loss: 0.0224, Train MAPE: 0.0506, Train RMSE: 0.0329, Lr: 0.001000\n",
      "2021-12-08 15:06 - INFO - Epoch: 004, Train Loss: 0.0229, Train MAPE: 0.0507, Train RMSE: 0.0342, Valid Loss: 0.0219, Valid MAPE: 0.0510, Valid RMSE: 0.0330, Lr: 0.001000, Training Time: 3.0083 min/epoch\n",
      "2021-12-08 15:06 - INFO - Iter: 000, Train Loss: 0.0221, Train MAPE: 0.0499, Train RMSE: 0.0333, Lr: 0.001000\n",
      "2021-12-08 15:07 - INFO - Iter: 050, Train Loss: 0.0193, Train MAPE: 0.0430, Train RMSE: 0.0297, Lr: 0.001000\n",
      "2021-12-08 15:08 - INFO - Iter: 100, Train Loss: 0.0199, Train MAPE: 0.0416, Train RMSE: 0.0301, Lr: 0.001000\n",
      "2021-12-08 15:09 - INFO - Epoch: 005, Train Loss: 0.0211, Train MAPE: 0.0467, Train RMSE: 0.0316, Valid Loss: 0.0215, Valid MAPE: 0.0473, Valid RMSE: 0.0331, Lr: 0.001000, Training Time: 3.0095 min/epoch\n",
      "2021-12-08 15:09 - INFO - Iter: 000, Train Loss: 0.0213, Train MAPE: 0.0464, Train RMSE: 0.0323, Lr: 0.001000\n",
      "2021-12-08 15:10 - INFO - Iter: 050, Train Loss: 0.0177, Train MAPE: 0.0388, Train RMSE: 0.0266, Lr: 0.001000\n",
      "2021-12-08 15:12 - INFO - Iter: 100, Train Loss: 0.0192, Train MAPE: 0.0443, Train RMSE: 0.0276, Lr: 0.001000\n",
      "2021-12-08 15:12 - INFO - Epoch: 006, Train Loss: 0.0190, Train MAPE: 0.0421, Train RMSE: 0.0284, Valid Loss: 0.0172, Valid MAPE: 0.0403, Valid RMSE: 0.0264, Lr: 0.001000, Training Time: 3.0104 min/epoch\n",
      "2021-12-08 15:12 - INFO - Iter: 000, Train Loss: 0.0175, Train MAPE: 0.0378, Train RMSE: 0.0260, Lr: 0.001000\n",
      "2021-12-08 15:13 - INFO - Iter: 050, Train Loss: 0.0199, Train MAPE: 0.0425, Train RMSE: 0.0298, Lr: 0.001000\n",
      "2021-12-08 15:15 - INFO - Iter: 100, Train Loss: 0.0188, Train MAPE: 0.0409, Train RMSE: 0.0262, Lr: 0.001000\n",
      "2021-12-08 15:15 - INFO - Epoch: 007, Train Loss: 0.0182, Train MAPE: 0.0403, Train RMSE: 0.0271, Valid Loss: 0.0165, Valid MAPE: 0.0401, Valid RMSE: 0.0243, Lr: 0.001000, Training Time: 3.0117 min/epoch\n",
      "2021-12-08 15:15 - INFO - Iter: 000, Train Loss: 0.0160, Train MAPE: 0.0355, Train RMSE: 0.0242, Lr: 0.001000\n",
      "2021-12-08 15:16 - INFO - Iter: 050, Train Loss: 0.0155, Train MAPE: 0.0343, Train RMSE: 0.0237, Lr: 0.001000\n",
      "2021-12-08 15:18 - INFO - Iter: 100, Train Loss: 0.0160, Train MAPE: 0.0346, Train RMSE: 0.0246, Lr: 0.001000\n",
      "2021-12-08 15:18 - INFO - Epoch: 008, Train Loss: 0.0169, Train MAPE: 0.0374, Train RMSE: 0.0255, Valid Loss: 0.0166, Valid MAPE: 0.0382, Valid RMSE: 0.0246, Lr: 0.001000, Training Time: 3.0149 min/epoch\n",
      "2021-12-08 15:18 - INFO - Iter: 000, Train Loss: 0.0152, Train MAPE: 0.0340, Train RMSE: 0.0228, Lr: 0.001000\n",
      "2021-12-08 15:20 - INFO - Iter: 050, Train Loss: 0.0193, Train MAPE: 0.0430, Train RMSE: 0.0283, Lr: 0.001000\n",
      "2021-12-08 15:21 - INFO - Iter: 100, Train Loss: 0.0150, Train MAPE: 0.0332, Train RMSE: 0.0234, Lr: 0.001000\n",
      "2021-12-08 15:21 - INFO - Epoch: 009, Train Loss: 0.0165, Train MAPE: 0.0365, Train RMSE: 0.0248, Valid Loss: 0.0158, Valid MAPE: 0.0350, Valid RMSE: 0.0234, Lr: 0.001000, Training Time: 3.0148 min/epoch\n",
      "2021-12-08 15:21 - INFO - Iter: 000, Train Loss: 0.0184, Train MAPE: 0.0392, Train RMSE: 0.0261, Lr: 0.001000\n",
      "2021-12-08 15:23 - INFO - Iter: 050, Train Loss: 0.0147, Train MAPE: 0.0331, Train RMSE: 0.0229, Lr: 0.001000\n",
      "2021-12-08 15:24 - INFO - Iter: 100, Train Loss: 0.0159, Train MAPE: 0.0354, Train RMSE: 0.0235, Lr: 0.001000\n",
      "2021-12-08 15:25 - INFO - Epoch: 010, Train Loss: 0.0162, Train MAPE: 0.0358, Train RMSE: 0.0243, Valid Loss: 0.0149, Valid MAPE: 0.0337, Valid RMSE: 0.0219, Lr: 0.000100, Training Time: 3.0158 min/epoch\n",
      "2021-12-08 15:25 - INFO - Iter: 000, Train Loss: 0.0153, Train MAPE: 0.0337, Train RMSE: 0.0225, Lr: 0.000100\n",
      "2021-12-08 15:26 - INFO - Iter: 050, Train Loss: 0.0114, Train MAPE: 0.0252, Train RMSE: 0.0186, Lr: 0.000100\n",
      "2021-12-08 15:27 - INFO - Iter: 100, Train Loss: 0.0125, Train MAPE: 0.0284, Train RMSE: 0.0190, Lr: 0.000100\n",
      "2021-12-08 15:28 - INFO - Epoch: 011, Train Loss: 0.0125, Train MAPE: 0.0277, Train RMSE: 0.0197, Valid Loss: 0.0115, Valid MAPE: 0.0259, Valid RMSE: 0.0188, Lr: 0.000100, Training Time: 3.0198 min/epoch\n",
      "2021-12-08 15:28 - INFO - Iter: 000, Train Loss: 0.0123, Train MAPE: 0.0274, Train RMSE: 0.0190, Lr: 0.000100\n",
      "2021-12-08 15:29 - INFO - Iter: 050, Train Loss: 0.0119, Train MAPE: 0.0270, Train RMSE: 0.0187, Lr: 0.000100\n",
      "2021-12-08 15:31 - INFO - Iter: 100, Train Loss: 0.0114, Train MAPE: 0.0245, Train RMSE: 0.0183, Lr: 0.000100\n",
      "2021-12-08 15:31 - INFO - Epoch: 012, Train Loss: 0.0119, Train MAPE: 0.0263, Train RMSE: 0.0189, Valid Loss: 0.0108, Valid MAPE: 0.0244, Valid RMSE: 0.0180, Lr: 0.000100, Training Time: 3.0169 min/epoch\n",
      "2021-12-08 15:31 - INFO - Iter: 000, Train Loss: 0.0125, Train MAPE: 0.0267, Train RMSE: 0.0196, Lr: 0.000100\n",
      "2021-12-08 15:32 - INFO - Iter: 050, Train Loss: 0.0115, Train MAPE: 0.0263, Train RMSE: 0.0178, Lr: 0.000100\n",
      "2021-12-08 15:34 - INFO - Iter: 100, Train Loss: 0.0112, Train MAPE: 0.0245, Train RMSE: 0.0186, Lr: 0.000100\n",
      "2021-12-08 15:34 - INFO - Epoch: 013, Train Loss: 0.0117, Train MAPE: 0.0259, Train RMSE: 0.0186, Valid Loss: 0.0109, Valid MAPE: 0.0246, Valid RMSE: 0.0181, Lr: 0.000100, Training Time: 3.0224 min/epoch\n",
      "2021-12-08 15:34 - INFO - Iter: 000, Train Loss: 0.0109, Train MAPE: 0.0237, Train RMSE: 0.0174, Lr: 0.000100\n",
      "2021-12-08 15:36 - INFO - Iter: 050, Train Loss: 0.0109, Train MAPE: 0.0239, Train RMSE: 0.0183, Lr: 0.000100\n",
      "2021-12-08 15:37 - INFO - Iter: 100, Train Loss: 0.0114, Train MAPE: 0.0253, Train RMSE: 0.0186, Lr: 0.000100\n",
      "2021-12-08 15:37 - INFO - Epoch: 014, Train Loss: 0.0116, Train MAPE: 0.0255, Train RMSE: 0.0184, Valid Loss: 0.0109, Valid MAPE: 0.0251, Valid RMSE: 0.0178, Lr: 0.000100, Training Time: 3.0155 min/epoch\n",
      "2021-12-08 15:37 - INFO - Iter: 000, Train Loss: 0.0126, Train MAPE: 0.0280, Train RMSE: 0.0194, Lr: 0.000100\n",
      "2021-12-08 15:39 - INFO - Iter: 050, Train Loss: 0.0123, Train MAPE: 0.0267, Train RMSE: 0.0190, Lr: 0.000100\n",
      "2021-12-08 15:40 - INFO - Iter: 100, Train Loss: 0.0115, Train MAPE: 0.0260, Train RMSE: 0.0185, Lr: 0.000100\n",
      "2021-12-08 15:40 - INFO - Epoch: 015, Train Loss: 0.0114, Train MAPE: 0.0251, Train RMSE: 0.0182, Valid Loss: 0.0109, Valid MAPE: 0.0257, Valid RMSE: 0.0176, Lr: 0.000100, Training Time: 3.0148 min/epoch\n",
      "2021-12-08 15:41 - INFO - Iter: 000, Train Loss: 0.0117, Train MAPE: 0.0274, Train RMSE: 0.0184, Lr: 0.000100\n",
      "2021-12-08 15:42 - INFO - Iter: 050, Train Loss: 0.0109, Train MAPE: 0.0234, Train RMSE: 0.0180, Lr: 0.000100\n",
      "2021-12-08 15:43 - INFO - Iter: 100, Train Loss: 0.0121, Train MAPE: 0.0263, Train RMSE: 0.0189, Lr: 0.000100\n",
      "2021-12-08 15:44 - INFO - Epoch: 016, Train Loss: 0.0113, Train MAPE: 0.0249, Train RMSE: 0.0180, Valid Loss: 0.0105, Valid MAPE: 0.0240, Valid RMSE: 0.0172, Lr: 0.000100, Training Time: 3.0141 min/epoch\n",
      "2021-12-08 15:44 - INFO - Iter: 000, Train Loss: 0.0110, Train MAPE: 0.0249, Train RMSE: 0.0183, Lr: 0.000100\n",
      "2021-12-08 15:45 - INFO - Iter: 050, Train Loss: 0.0106, Train MAPE: 0.0238, Train RMSE: 0.0175, Lr: 0.000100\n",
      "2021-12-08 15:46 - INFO - Iter: 100, Train Loss: 0.0112, Train MAPE: 0.0245, Train RMSE: 0.0177, Lr: 0.000100\n",
      "2021-12-08 15:47 - INFO - Epoch: 017, Train Loss: 0.0113, Train MAPE: 0.0249, Train RMSE: 0.0179, Valid Loss: 0.0102, Valid MAPE: 0.0236, Valid RMSE: 0.0169, Lr: 0.000100, Training Time: 3.0139 min/epoch\n",
      "2021-12-08 15:47 - INFO - Iter: 000, Train Loss: 0.0106, Train MAPE: 0.0225, Train RMSE: 0.0171, Lr: 0.000100\n",
      "2021-12-08 15:48 - INFO - Iter: 050, Train Loss: 0.0109, Train MAPE: 0.0238, Train RMSE: 0.0180, Lr: 0.000100\n",
      "2021-12-08 15:50 - INFO - Iter: 100, Train Loss: 0.0107, Train MAPE: 0.0228, Train RMSE: 0.0175, Lr: 0.000100\n",
      "2021-12-08 15:50 - INFO - Epoch: 018, Train Loss: 0.0113, Train MAPE: 0.0248, Train RMSE: 0.0180, Valid Loss: 0.0103, Valid MAPE: 0.0236, Valid RMSE: 0.0171, Lr: 0.000100, Training Time: 3.0132 min/epoch\n",
      "2021-12-08 15:50 - INFO - Iter: 000, Train Loss: 0.0106, Train MAPE: 0.0228, Train RMSE: 0.0174, Lr: 0.000100\n",
      "2021-12-08 15:51 - INFO - Iter: 050, Train Loss: 0.0118, Train MAPE: 0.0259, Train RMSE: 0.0185, Lr: 0.000100\n",
      "2021-12-08 15:53 - INFO - Iter: 100, Train Loss: 0.0111, Train MAPE: 0.0239, Train RMSE: 0.0173, Lr: 0.000100\n",
      "2021-12-08 15:53 - INFO - Epoch: 019, Train Loss: 0.0112, Train MAPE: 0.0246, Train RMSE: 0.0178, Valid Loss: 0.0106, Valid MAPE: 0.0244, Valid RMSE: 0.0175, Lr: 0.000100, Training Time: 3.0117 min/epoch\n",
      "2021-12-08 15:53 - INFO - Iter: 000, Train Loss: 0.0113, Train MAPE: 0.0258, Train RMSE: 0.0176, Lr: 0.000100\n",
      "2021-12-08 15:55 - INFO - Iter: 050, Train Loss: 0.0102, Train MAPE: 0.0225, Train RMSE: 0.0170, Lr: 0.000100\n",
      "2021-12-08 15:56 - INFO - Iter: 100, Train Loss: 0.0105, Train MAPE: 0.0225, Train RMSE: 0.0176, Lr: 0.000100\n",
      "2021-12-08 15:56 - INFO - Epoch: 020, Train Loss: 0.0110, Train MAPE: 0.0242, Train RMSE: 0.0176, Valid Loss: 0.0107, Valid MAPE: 0.0242, Valid RMSE: 0.0171, Lr: 0.000010, Training Time: 3.0136 min/epoch\n",
      "2021-12-08 15:56 - INFO - Iter: 000, Train Loss: 0.0112, Train MAPE: 0.0238, Train RMSE: 0.0176, Lr: 0.000010\n",
      "2021-12-08 15:58 - INFO - Iter: 050, Train Loss: 0.0099, Train MAPE: 0.0218, Train RMSE: 0.0164, Lr: 0.000010\n",
      "2021-12-08 15:59 - INFO - Iter: 100, Train Loss: 0.0099, Train MAPE: 0.0215, Train RMSE: 0.0162, Lr: 0.000010\n",
      "2021-12-08 15:59 - INFO - Epoch: 021, Train Loss: 0.0104, Train MAPE: 0.0228, Train RMSE: 0.0168, Valid Loss: 0.0094, Valid MAPE: 0.0215, Valid RMSE: 0.0160, Lr: 0.000010, Training Time: 3.0132 min/epoch\n",
      "2021-12-08 16:00 - INFO - Iter: 000, Train Loss: 0.0106, Train MAPE: 0.0227, Train RMSE: 0.0170, Lr: 0.000010\n",
      "2021-12-08 16:01 - INFO - Iter: 050, Train Loss: 0.0100, Train MAPE: 0.0220, Train RMSE: 0.0163, Lr: 0.000010\n",
      "2021-12-08 16:02 - INFO - Iter: 100, Train Loss: 0.0099, Train MAPE: 0.0218, Train RMSE: 0.0168, Lr: 0.000010\n",
      "2021-12-08 16:03 - INFO - Epoch: 022, Train Loss: 0.0103, Train MAPE: 0.0228, Train RMSE: 0.0167, Valid Loss: 0.0094, Valid MAPE: 0.0215, Valid RMSE: 0.0159, Lr: 0.000010, Training Time: 3.0154 min/epoch\n",
      "2021-12-08 16:03 - INFO - Iter: 000, Train Loss: 0.0101, Train MAPE: 0.0216, Train RMSE: 0.0164, Lr: 0.000010\n",
      "2021-12-08 16:04 - INFO - Iter: 050, Train Loss: 0.0100, Train MAPE: 0.0218, Train RMSE: 0.0165, Lr: 0.000010\n",
      "2021-12-08 16:05 - INFO - Iter: 100, Train Loss: 0.0101, Train MAPE: 0.0226, Train RMSE: 0.0172, Lr: 0.000010\n",
      "2021-12-08 16:06 - INFO - Epoch: 023, Train Loss: 0.0104, Train MAPE: 0.0228, Train RMSE: 0.0167, Valid Loss: 0.0094, Valid MAPE: 0.0215, Valid RMSE: 0.0159, Lr: 0.000010, Training Time: 3.0244 min/epoch\n",
      "2021-12-08 16:06 - INFO - Iter: 000, Train Loss: 0.0106, Train MAPE: 0.0237, Train RMSE: 0.0169, Lr: 0.000010\n",
      "2021-12-08 16:07 - INFO - Iter: 050, Train Loss: 0.0103, Train MAPE: 0.0222, Train RMSE: 0.0163, Lr: 0.000010\n",
      "2021-12-08 16:09 - INFO - Iter: 100, Train Loss: 0.0100, Train MAPE: 0.0223, Train RMSE: 0.0162, Lr: 0.000010\n",
      "2021-12-08 16:09 - INFO - Epoch: 024, Train Loss: 0.0102, Train MAPE: 0.0226, Train RMSE: 0.0166, Valid Loss: 0.0094, Valid MAPE: 0.0217, Valid RMSE: 0.0160, Lr: 0.000010, Training Time: 3.0237 min/epoch\n",
      "2021-12-08 16:09 - INFO - Iter: 000, Train Loss: 0.0101, Train MAPE: 0.0221, Train RMSE: 0.0162, Lr: 0.000010\n",
      "2021-12-08 16:10 - INFO - Iter: 050, Train Loss: 0.0106, Train MAPE: 0.0233, Train RMSE: 0.0170, Lr: 0.000010\n",
      "2021-12-08 16:12 - INFO - Iter: 100, Train Loss: 0.0106, Train MAPE: 0.0232, Train RMSE: 0.0170, Lr: 0.000010\n",
      "2021-12-08 16:12 - INFO - Epoch: 025, Train Loss: 0.0101, Train MAPE: 0.0223, Train RMSE: 0.0165, Valid Loss: 0.0094, Valid MAPE: 0.0216, Valid RMSE: 0.0160, Lr: 0.000010, Training Time: 3.0233 min/epoch\n",
      "2021-12-08 16:12 - INFO - Iter: 000, Train Loss: 0.0114, Train MAPE: 0.0259, Train RMSE: 0.0175, Lr: 0.000010\n",
      "2021-12-08 16:14 - INFO - Iter: 050, Train Loss: 0.0094, Train MAPE: 0.0210, Train RMSE: 0.0158, Lr: 0.000010\n",
      "2021-12-08 16:15 - INFO - Iter: 100, Train Loss: 0.0097, Train MAPE: 0.0211, Train RMSE: 0.0163, Lr: 0.000010\n",
      "2021-12-08 16:15 - INFO - Epoch: 026, Train Loss: 0.0103, Train MAPE: 0.0227, Train RMSE: 0.0166, Valid Loss: 0.0093, Valid MAPE: 0.0214, Valid RMSE: 0.0158, Lr: 0.000010, Training Time: 3.0241 min/epoch\n",
      "2021-12-08 16:15 - INFO - Iter: 000, Train Loss: 0.0095, Train MAPE: 0.0205, Train RMSE: 0.0159, Lr: 0.000010\n",
      "2021-12-08 16:17 - INFO - Iter: 050, Train Loss: 0.0105, Train MAPE: 0.0231, Train RMSE: 0.0168, Lr: 0.000010\n",
      "2021-12-08 16:18 - INFO - Iter: 100, Train Loss: 0.0111, Train MAPE: 0.0249, Train RMSE: 0.0174, Lr: 0.000010\n",
      "2021-12-08 16:19 - INFO - Epoch: 027, Train Loss: 0.0102, Train MAPE: 0.0225, Train RMSE: 0.0165, Valid Loss: 0.0093, Valid MAPE: 0.0213, Valid RMSE: 0.0158, Lr: 0.000010, Training Time: 3.0245 min/epoch\n",
      "2021-12-08 16:19 - INFO - Iter: 000, Train Loss: 0.0100, Train MAPE: 0.0225, Train RMSE: 0.0165, Lr: 0.000010\n",
      "2021-12-08 16:20 - INFO - Iter: 050, Train Loss: 0.0096, Train MAPE: 0.0208, Train RMSE: 0.0160, Lr: 0.000010\n",
      "2021-12-08 16:21 - INFO - Iter: 100, Train Loss: 0.0099, Train MAPE: 0.0242, Train RMSE: 0.0162, Lr: 0.000010\n",
      "2021-12-08 16:22 - INFO - Epoch: 028, Train Loss: 0.0102, Train MAPE: 0.0227, Train RMSE: 0.0166, Valid Loss: 0.0093, Valid MAPE: 0.0212, Valid RMSE: 0.0158, Lr: 0.000010, Training Time: 3.0247 min/epoch\n",
      "2021-12-08 16:22 - INFO - Iter: 000, Train Loss: 0.0099, Train MAPE: 0.0225, Train RMSE: 0.0160, Lr: 0.000010\n",
      "2021-12-08 16:23 - INFO - Iter: 050, Train Loss: 0.0101, Train MAPE: 0.0221, Train RMSE: 0.0164, Lr: 0.000010\n",
      "2021-12-08 16:24 - INFO - Iter: 100, Train Loss: 0.0099, Train MAPE: 0.0216, Train RMSE: 0.0157, Lr: 0.000010\n",
      "2021-12-08 16:25 - INFO - Epoch: 029, Train Loss: 0.0101, Train MAPE: 0.0222, Train RMSE: 0.0164, Valid Loss: 0.0092, Valid MAPE: 0.0211, Valid RMSE: 0.0157, Lr: 0.000010, Training Time: 3.0248 min/epoch\n",
      "2021-12-08 16:25 - INFO - Iter: 000, Train Loss: 0.0106, Train MAPE: 0.0225, Train RMSE: 0.0172, Lr: 0.000010\n",
      "2021-12-08 16:26 - INFO - Iter: 050, Train Loss: 0.0096, Train MAPE: 0.0208, Train RMSE: 0.0159, Lr: 0.000010\n",
      "2021-12-08 16:28 - INFO - Iter: 100, Train Loss: 0.0106, Train MAPE: 0.0232, Train RMSE: 0.0169, Lr: 0.000010\n",
      "2021-12-08 16:28 - INFO - Epoch: 030, Train Loss: 0.0101, Train MAPE: 0.0224, Train RMSE: 0.0165, Valid Loss: 0.0092, Valid MAPE: 0.0213, Valid RMSE: 0.0157, Lr: 0.000001, Training Time: 3.0246 min/epoch\n",
      "2021-12-08 16:28 - INFO - Iter: 000, Train Loss: 0.0106, Train MAPE: 0.0235, Train RMSE: 0.0163, Lr: 0.000001\n",
      "2021-12-08 16:29 - INFO - Iter: 050, Train Loss: 0.0114, Train MAPE: 0.0268, Train RMSE: 0.0172, Lr: 0.000001\n",
      "2021-12-08 16:31 - INFO - Iter: 100, Train Loss: 0.0098, Train MAPE: 0.0216, Train RMSE: 0.0161, Lr: 0.000001\n",
      "2021-12-08 16:31 - INFO - Epoch: 031, Train Loss: 0.0102, Train MAPE: 0.0225, Train RMSE: 0.0164, Valid Loss: 0.0092, Valid MAPE: 0.0212, Valid RMSE: 0.0157, Lr: 0.000001, Training Time: 3.0238 min/epoch\n",
      "2021-12-08 16:31 - INFO - Iter: 000, Train Loss: 0.0103, Train MAPE: 0.0225, Train RMSE: 0.0169, Lr: 0.000001\n",
      "2021-12-08 16:33 - INFO - Iter: 050, Train Loss: 0.0095, Train MAPE: 0.0211, Train RMSE: 0.0160, Lr: 0.000001\n",
      "2021-12-08 16:34 - INFO - Iter: 100, Train Loss: 0.0097, Train MAPE: 0.0216, Train RMSE: 0.0161, Lr: 0.000001\n",
      "2021-12-08 16:34 - INFO - Epoch: 032, Train Loss: 0.0100, Train MAPE: 0.0221, Train RMSE: 0.0163, Valid Loss: 0.0092, Valid MAPE: 0.0211, Valid RMSE: 0.0156, Lr: 0.000001, Training Time: 3.0238 min/epoch\n",
      "2021-12-08 16:34 - INFO - Iter: 000, Train Loss: 0.0097, Train MAPE: 0.0216, Train RMSE: 0.0162, Lr: 0.000001\n",
      "2021-12-08 16:36 - INFO - Iter: 050, Train Loss: 0.0101, Train MAPE: 0.0224, Train RMSE: 0.0161, Lr: 0.000001\n",
      "2021-12-08 16:37 - INFO - Iter: 100, Train Loss: 0.0106, Train MAPE: 0.0234, Train RMSE: 0.0172, Lr: 0.000001\n",
      "2021-12-08 16:38 - INFO - Epoch: 033, Train Loss: 0.0100, Train MAPE: 0.0220, Train RMSE: 0.0163, Valid Loss: 0.0092, Valid MAPE: 0.0211, Valid RMSE: 0.0157, Lr: 0.000001, Training Time: 3.0231 min/epoch\n",
      "2021-12-08 16:38 - INFO - Iter: 000, Train Loss: 0.0102, Train MAPE: 0.0230, Train RMSE: 0.0164, Lr: 0.000001\n",
      "2021-12-08 16:39 - INFO - Iter: 050, Train Loss: 0.0103, Train MAPE: 0.0228, Train RMSE: 0.0170, Lr: 0.000001\n",
      "2021-12-08 16:40 - INFO - Iter: 100, Train Loss: 0.0102, Train MAPE: 0.0224, Train RMSE: 0.0163, Lr: 0.000001\n",
      "2021-12-08 16:41 - INFO - Epoch: 034, Train Loss: 0.0100, Train MAPE: 0.0221, Train RMSE: 0.0163, Valid Loss: 0.0092, Valid MAPE: 0.0210, Valid RMSE: 0.0156, Lr: 0.000001, Training Time: 3.0235 min/epoch\n",
      "2021-12-08 16:41 - INFO - Iter: 000, Train Loss: 0.0096, Train MAPE: 0.0212, Train RMSE: 0.0161, Lr: 0.000001\n",
      "2021-12-08 16:42 - INFO - Iter: 050, Train Loss: 0.0097, Train MAPE: 0.0215, Train RMSE: 0.0163, Lr: 0.000001\n",
      "2021-12-08 16:44 - INFO - Iter: 100, Train Loss: 0.0099, Train MAPE: 0.0212, Train RMSE: 0.0161, Lr: 0.000001\n",
      "2021-12-08 16:44 - INFO - Epoch: 035, Train Loss: 0.0100, Train MAPE: 0.0220, Train RMSE: 0.0163, Valid Loss: 0.0092, Valid MAPE: 0.0212, Valid RMSE: 0.0156, Lr: 0.000001, Training Time: 3.0229 min/epoch\n",
      "2021-12-08 16:44 - INFO - Iter: 000, Train Loss: 0.0105, Train MAPE: 0.0225, Train RMSE: 0.0170, Lr: 0.000001\n",
      "2021-12-08 16:45 - INFO - Iter: 050, Train Loss: 0.0093, Train MAPE: 0.0203, Train RMSE: 0.0154, Lr: 0.000001\n",
      "2021-12-08 16:47 - INFO - Iter: 100, Train Loss: 0.0094, Train MAPE: 0.0208, Train RMSE: 0.0157, Lr: 0.000001\n",
      "2021-12-08 16:47 - INFO - Epoch: 036, Train Loss: 0.0100, Train MAPE: 0.0221, Train RMSE: 0.0163, Valid Loss: 0.0092, Valid MAPE: 0.0209, Valid RMSE: 0.0156, Lr: 0.000001, Training Time: 3.0204 min/epoch\n",
      "2021-12-08 16:47 - INFO - Iter: 000, Train Loss: 0.0093, Train MAPE: 0.0199, Train RMSE: 0.0155, Lr: 0.000001\n",
      "2021-12-08 16:49 - INFO - Iter: 050, Train Loss: 0.0094, Train MAPE: 0.0202, Train RMSE: 0.0157, Lr: 0.000001\n",
      "2021-12-08 16:50 - INFO - Iter: 100, Train Loss: 0.0096, Train MAPE: 0.0215, Train RMSE: 0.0161, Lr: 0.000001\n",
      "2021-12-08 16:50 - INFO - Epoch: 037, Train Loss: 0.0100, Train MAPE: 0.0220, Train RMSE: 0.0162, Valid Loss: 0.0092, Valid MAPE: 0.0210, Valid RMSE: 0.0156, Lr: 0.000001, Training Time: 3.0219 min/epoch\n",
      "2021-12-08 16:50 - INFO - Iter: 000, Train Loss: 0.0100, Train MAPE: 0.0222, Train RMSE: 0.0164, Lr: 0.000001\n",
      "2021-12-08 16:52 - INFO - Iter: 050, Train Loss: 0.0093, Train MAPE: 0.0204, Train RMSE: 0.0159, Lr: 0.000001\n",
      "2021-12-08 16:53 - INFO - Iter: 100, Train Loss: 0.0105, Train MAPE: 0.0233, Train RMSE: 0.0171, Lr: 0.000001\n",
      "2021-12-08 16:53 - INFO - Epoch: 038, Train Loss: 0.0099, Train MAPE: 0.0219, Train RMSE: 0.0162, Valid Loss: 0.0092, Valid MAPE: 0.0210, Valid RMSE: 0.0156, Lr: 0.000001, Training Time: 3.0227 min/epoch\n",
      "2021-12-08 16:54 - INFO - Iter: 000, Train Loss: 0.0095, Train MAPE: 0.0208, Train RMSE: 0.0156, Lr: 0.000001\n",
      "2021-12-08 16:55 - INFO - Iter: 050, Train Loss: 0.0121, Train MAPE: 0.0278, Train RMSE: 0.0168, Lr: 0.000001\n",
      "2021-12-08 16:56 - INFO - Iter: 100, Train Loss: 0.0097, Train MAPE: 0.0211, Train RMSE: 0.0160, Lr: 0.000001\n",
      "2021-12-08 16:57 - INFO - Epoch: 039, Train Loss: 0.0100, Train MAPE: 0.0221, Train RMSE: 0.0163, Valid Loss: 0.0092, Valid MAPE: 0.0212, Valid RMSE: 0.0156, Lr: 0.000001, Training Time: 3.0245 min/epoch\n",
      "2021-12-08 16:57 - INFO - Iter: 000, Train Loss: 0.0109, Train MAPE: 0.0234, Train RMSE: 0.0169, Lr: 0.000001\n",
      "2021-12-08 16:58 - INFO - Iter: 050, Train Loss: 0.0097, Train MAPE: 0.0210, Train RMSE: 0.0160, Lr: 0.000001\n",
      "2021-12-08 16:59 - INFO - Iter: 100, Train Loss: 0.0098, Train MAPE: 0.0211, Train RMSE: 0.0164, Lr: 0.000001\n",
      "2021-12-08 17:00 - INFO - Epoch: 040, Train Loss: 0.0100, Train MAPE: 0.0220, Train RMSE: 0.0163, Valid Loss: 0.0092, Valid MAPE: 0.0210, Valid RMSE: 0.0156, Lr: 0.000000, Training Time: 3.0228 min/epoch\n",
      "2021-12-08 17:00 - INFO - Average Training Time: 3.0183 min/epoch\n",
      "2021-12-08 17:00 - INFO - Average Inference Time: 9.1561 secs\n",
      "Training finished\n",
      "The valid loss on best model is 0.0092\n",
      "2021-12-08 17:00 - INFO - Evaluate best model on test data for horizon 1, Test MAE: 0.0014, Test MAPE: 0.0031, Test RMSE: 0.0020\n",
      "2021-12-08 17:00 - INFO - Evaluate best model on test data for horizon 2, Test MAE: 0.0011, Test MAPE: 0.0025, Test RMSE: 0.0016\n",
      "2021-12-08 17:00 - INFO - Evaluate best model on test data for horizon 3, Test MAE: 0.0011, Test MAPE: 0.0024, Test RMSE: 0.0015\n",
      "2021-12-08 17:00 - INFO - Evaluate best model on test data for horizon 4, Test MAE: 0.0010, Test MAPE: 0.0023, Test RMSE: 0.0015\n",
      "2021-12-08 17:00 - INFO - Evaluate best model on test data for horizon 5, Test MAE: 0.0010, Test MAPE: 0.0024, Test RMSE: 0.0015\n",
      "2021-12-08 17:00 - INFO - Evaluate best model on test data for horizon 6, Test MAE: 0.0011, Test MAPE: 0.0024, Test RMSE: 0.0015\n",
      "2021-12-08 17:00 - INFO - Evaluate best model on test data for horizon 7, Test MAE: 0.0011, Test MAPE: 0.0026, Test RMSE: 0.0016\n",
      "2021-12-08 17:00 - INFO - Evaluate best model on test data for horizon 8, Test MAE: 0.0013, Test MAPE: 0.0030, Test RMSE: 0.0018\n",
      "2021-12-08 17:00 - INFO - Evaluate best model on test data for horizon 9, Test MAE: 0.0016, Test MAPE: 0.0036, Test RMSE: 0.0022\n",
      "2021-12-08 17:00 - INFO - Evaluate best model on test data for horizon 10, Test MAE: 0.0021, Test MAPE: 0.0046, Test RMSE: 0.0028\n",
      "2021-12-08 17:00 - INFO - Evaluate best model on test data for horizon 11, Test MAE: 0.0027, Test MAPE: 0.0060, Test RMSE: 0.0036\n",
      "2021-12-08 17:00 - INFO - Evaluate best model on test data for horizon 12, Test MAE: 0.0036, Test MAPE: 0.0078, Test RMSE: 0.0047\n",
      "2021-12-08 17:00 - INFO - Evaluate best model on test data for horizon 13, Test MAE: 0.0046, Test MAPE: 0.0099, Test RMSE: 0.0059\n",
      "2021-12-08 17:00 - INFO - Evaluate best model on test data for horizon 14, Test MAE: 0.0057, Test MAPE: 0.0123, Test RMSE: 0.0074\n",
      "2021-12-08 17:00 - INFO - Evaluate best model on test data for horizon 15, Test MAE: 0.0069, Test MAPE: 0.0147, Test RMSE: 0.0088\n",
      "2021-12-08 17:00 - INFO - Evaluate best model on test data for horizon 16, Test MAE: 0.0080, Test MAPE: 0.0171, Test RMSE: 0.0103\n",
      "2021-12-08 17:00 - INFO - Evaluate best model on test data for horizon 17, Test MAE: 0.0091, Test MAPE: 0.0192, Test RMSE: 0.0116\n",
      "2021-12-08 17:00 - INFO - Evaluate best model on test data for horizon 18, Test MAE: 0.0100, Test MAPE: 0.0211, Test RMSE: 0.0128\n",
      "2021-12-08 17:00 - INFO - Evaluate best model on test data for horizon 19, Test MAE: 0.0107, Test MAPE: 0.0225, Test RMSE: 0.0137\n",
      "2021-12-08 17:00 - INFO - Evaluate best model on test data for horizon 20, Test MAE: 0.0112, Test MAPE: 0.0235, Test RMSE: 0.0143\n",
      "2021-12-08 17:00 - INFO - Evaluate best model on test data for horizon 21, Test MAE: 0.0114, Test MAPE: 0.0241, Test RMSE: 0.0146\n",
      "2021-12-08 17:00 - INFO - Evaluate best model on test data for horizon 22, Test MAE: 0.0117, Test MAPE: 0.0247, Test RMSE: 0.0149\n",
      "2021-12-08 17:00 - INFO - Evaluate best model on test data for horizon 23, Test MAE: 0.0122, Test MAPE: 0.0259, Test RMSE: 0.0155\n",
      "2021-12-08 17:00 - INFO - Evaluate best model on test data for horizon 24, Test MAE: 0.0133, Test MAPE: 0.0283, Test RMSE: 0.0169\n",
      "2021-12-08 17:00 - INFO - Evaluate best model on test data for horizon 25, Test MAE: 0.0152, Test MAPE: 0.0324, Test RMSE: 0.0193\n",
      "2021-12-08 17:00 - INFO - Evaluate best model on test data for horizon 26, Test MAE: 0.0178, Test MAPE: 0.0380, Test RMSE: 0.0225\n",
      "2021-12-08 17:00 - INFO - Evaluate best model on test data for horizon 27, Test MAE: 0.0208, Test MAPE: 0.0446, Test RMSE: 0.0263\n",
      "2021-12-08 17:00 - INFO - Evaluate best model on test data for horizon 28, Test MAE: 0.0239, Test MAPE: 0.0513, Test RMSE: 0.0302\n",
      "2021-12-08 17:00 - INFO - Evaluate best model on test data for horizon 29, Test MAE: 0.0268, Test MAPE: 0.0579, Test RMSE: 0.0339\n",
      "2021-12-08 17:00 - INFO - Evaluate best model on test data for horizon 30, Test MAE: 0.0294, Test MAPE: 0.0639, Test RMSE: 0.0373\n",
      "2021-12-08 17:00 - INFO - On average over 30 horizons, Test MAE: 0.0089, Test MAPE: 0.0191, Test RMSE: 0.0114\n",
      "Save outputs in:  ./results/GWN_gcnTrue_2_nhid32_lr0.001_1208145313/\n",
      "Save figure in:  ./results/GWN_gcnTrue_2_nhid32_lr0.001_1208145313/\n",
      "Total time spent: 7639.0288\n"
     ]
    }
   ],
   "source": [
    "# Train model.\n",
    "!python gwn_for_brain_connectivity_train.py --data ./MRI_data/training_samples --save_predictions True"
   ]
  }
 ],
 "metadata": {
  "accelerator": "GPU",
  "colab": {
   "collapsed_sections": [],
   "name": "gwn_for_brain_connectivity_colab_demo.ipynb",
   "provenance": []
  },
  "kernelspec": {
   "display_name": "Python 3",
   "language": "python",
   "name": "python3"
  },
  "language_info": {
   "codemirror_mode": {
    "name": "ipython",
    "version": 3
   },
   "file_extension": ".py",
   "mimetype": "text/x-python",
   "name": "python",
   "nbconvert_exporter": "python",
   "pygments_lexer": "ipython3",
   "version": "3.8.5"
  }
 },
 "nbformat": 4,
 "nbformat_minor": 4
}
